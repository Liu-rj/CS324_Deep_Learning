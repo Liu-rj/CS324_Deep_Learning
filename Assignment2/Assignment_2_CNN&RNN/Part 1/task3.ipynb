{
 "cells": [
  {
   "cell_type": "code",
   "execution_count": 6,
   "metadata": {},
   "outputs": [],
   "source": [
    "import cifar10 as cfr\n",
    "import argparse\n",
    "import matplotlib.pyplot as plt"
   ]
  },
  {
   "cell_type": "code",
   "execution_count": 2,
   "metadata": {},
   "outputs": [],
   "source": [
    "DNN_HIDDEN_UNITS_DEFAULT = \"20\"\n",
    "LEARNING_RATE_DEFAULT = 1e-2\n",
    "MAX_EPOCHS_DEFAULT = 200\n",
    "EVAL_FREQ_DEFAULT = 10\n",
    "parser = argparse.ArgumentParser()\n",
    "parser.add_argument(\n",
    "    \"--dnn_hidden_units\",\n",
    "    type=str,\n",
    "    default=DNN_HIDDEN_UNITS_DEFAULT,\n",
    "    help=\"Comma separated list of number of units in each hidden layer\",\n",
    ")\n",
    "parser.add_argument(\n",
    "    \"--learning_rate\",\n",
    "    type=float,\n",
    "    default=LEARNING_RATE_DEFAULT,\n",
    "    help=\"Learning rate\",\n",
    ")\n",
    "parser.add_argument(\n",
    "    \"--max_steps\",\n",
    "    type=int,\n",
    "    default=MAX_EPOCHS_DEFAULT,\n",
    "    help=\"Number of epochs to run trainer.\",\n",
    ")\n",
    "parser.add_argument(\n",
    "    \"--eval_freq\",\n",
    "    type=int,\n",
    "    default=EVAL_FREQ_DEFAULT,\n",
    "    help=\"Frequency of evaluation on the test set\",\n",
    ")\n",
    "FLAGS, unparsed = parser.parse_known_args()"
   ]
  },
  {
   "cell_type": "code",
   "execution_count": 12,
   "metadata": {},
   "outputs": [],
   "source": [
    "def draw_eval(epochs, train_acc, test_acc, train_loss, test_loss):\n",
    "    plt.figure(1, figsize=(20, 5))\n",
    "    plt.subplot(121)\n",
    "    plt.plot(epochs, train_acc, 'r', label='Train Acc')\n",
    "    plt.plot(epochs, test_acc, 'b', label='Test Acc')\n",
    "    plt.legend()\n",
    "    plt.xlabel(\"Epoch\")\n",
    "    plt.ylabel(\"Accuracy\")\n",
    "    plt.title(\"CIFAR10 SGD training\")\n",
    "\n",
    "    plt.subplot(122)\n",
    "    plt.plot(epochs, train_loss, 'r', label='Train Loss')\n",
    "    plt.plot(epochs, test_loss, 'b', label='Test Loss')\n",
    "    plt.legend()\n",
    "    plt.xlabel(\"Epoch\")\n",
    "    plt.ylabel(\"Loss\")\n",
    "    plt.title(\"CIFAR10 SGD training\")\n",
    "    plt.show()"
   ]
  },
  {
   "cell_type": "code",
   "execution_count": 4,
   "metadata": {},
   "outputs": [
    {
     "name": "stdout",
     "output_type": "stream",
     "text": [
      "Files already downloaded and verified\n",
      "Files already downloaded and verified\n"
     ]
    },
    {
     "name": "stderr",
     "output_type": "stream",
     "text": [
      "100%|██████████| 1563/1563 [00:03<00:00, 406.59it/s]\n",
      "100%|██████████| 313/313 [00:00<00:00, 471.17it/s]\n"
     ]
    },
    {
     "name": "stdout",
     "output_type": "stream",
     "text": [
      "Epoch 0 | Train Acc 0.1981 | Train Loss 2.2979 | Test Acc 0.2420 | Test Loss 2.2895\n"
     ]
    },
    {
     "name": "stderr",
     "output_type": "stream",
     "text": [
      "100%|██████████| 1563/1563 [00:04<00:00, 388.77it/s]\n",
      "100%|██████████| 1563/1563 [00:03<00:00, 391.62it/s]\n",
      "100%|██████████| 1563/1563 [00:03<00:00, 400.36it/s]\n",
      "100%|██████████| 1563/1563 [00:03<00:00, 412.25it/s]\n",
      "100%|██████████| 1563/1563 [00:03<00:00, 411.86it/s]\n",
      "100%|██████████| 1563/1563 [00:03<00:00, 417.05it/s]\n",
      "100%|██████████| 1563/1563 [00:03<00:00, 405.19it/s]\n",
      "100%|██████████| 1563/1563 [00:03<00:00, 393.20it/s]\n",
      "100%|██████████| 1563/1563 [00:03<00:00, 391.89it/s]\n",
      "100%|██████████| 1563/1563 [00:03<00:00, 406.97it/s]\n",
      "100%|██████████| 313/313 [00:00<00:00, 480.89it/s]\n"
     ]
    },
    {
     "name": "stdout",
     "output_type": "stream",
     "text": [
      "Epoch 10 | Train Acc 0.3178 | Train Loss 2.2150 | Test Acc 0.3234 | Test Loss 2.2127\n"
     ]
    },
    {
     "name": "stderr",
     "output_type": "stream",
     "text": [
      "100%|██████████| 1563/1563 [00:03<00:00, 423.21it/s]\n",
      "100%|██████████| 1563/1563 [00:03<00:00, 423.49it/s]\n",
      "100%|██████████| 1563/1563 [00:03<00:00, 424.83it/s]\n",
      "100%|██████████| 1563/1563 [00:03<00:00, 426.06it/s]\n",
      "100%|██████████| 1563/1563 [00:03<00:00, 413.75it/s]\n",
      "100%|██████████| 1563/1563 [00:03<00:00, 414.53it/s]\n",
      "100%|██████████| 1563/1563 [00:03<00:00, 418.73it/s]\n",
      "100%|██████████| 1563/1563 [00:03<00:00, 409.16it/s]\n",
      "100%|██████████| 1563/1563 [00:03<00:00, 420.74it/s]\n",
      "100%|██████████| 1563/1563 [00:03<00:00, 418.98it/s]\n",
      "100%|██████████| 313/313 [00:00<00:00, 484.32it/s]\n"
     ]
    },
    {
     "name": "stdout",
     "output_type": "stream",
     "text": [
      "Epoch 20 | Train Acc 0.3403 | Train Loss 2.1995 | Test Acc 0.3424 | Test Loss 2.2000\n"
     ]
    },
    {
     "name": "stderr",
     "output_type": "stream",
     "text": [
      "100%|██████████| 1563/1563 [00:03<00:00, 409.68it/s]\n",
      "100%|██████████| 1563/1563 [00:03<00:00, 413.46it/s]\n",
      "100%|██████████| 1563/1563 [00:03<00:00, 414.08it/s]\n",
      "100%|██████████| 1563/1563 [00:03<00:00, 398.93it/s]\n",
      "100%|██████████| 1563/1563 [00:03<00:00, 414.34it/s]\n",
      "100%|██████████| 1563/1563 [00:03<00:00, 434.53it/s]\n",
      "100%|██████████| 1563/1563 [00:03<00:00, 433.07it/s]\n",
      "100%|██████████| 1563/1563 [00:03<00:00, 433.39it/s]\n",
      "100%|██████████| 1563/1563 [00:03<00:00, 437.11it/s]\n",
      "100%|██████████| 1563/1563 [00:03<00:00, 426.96it/s]\n",
      "100%|██████████| 313/313 [00:00<00:00, 488.12it/s]\n"
     ]
    },
    {
     "name": "stdout",
     "output_type": "stream",
     "text": [
      "Epoch 30 | Train Acc 0.3562 | Train Loss 2.1901 | Test Acc 0.3514 | Test Loss 2.1926\n"
     ]
    },
    {
     "name": "stderr",
     "output_type": "stream",
     "text": [
      "100%|██████████| 1563/1563 [00:03<00:00, 408.79it/s]\n",
      "100%|██████████| 1563/1563 [00:03<00:00, 424.83it/s]\n",
      "100%|██████████| 1563/1563 [00:03<00:00, 435.63it/s]\n",
      "100%|██████████| 1563/1563 [00:03<00:00, 434.37it/s]\n",
      "100%|██████████| 1563/1563 [00:03<00:00, 435.23it/s]\n",
      "100%|██████████| 1563/1563 [00:03<00:00, 434.28it/s]\n",
      "100%|██████████| 1563/1563 [00:03<00:00, 424.45it/s]\n",
      "100%|██████████| 1563/1563 [00:03<00:00, 429.65it/s]\n",
      "100%|██████████| 1563/1563 [00:03<00:00, 416.49it/s]\n",
      "100%|██████████| 1563/1563 [00:03<00:00, 435.24it/s]\n",
      "100%|██████████| 313/313 [00:00<00:00, 494.72it/s]\n"
     ]
    },
    {
     "name": "stdout",
     "output_type": "stream",
     "text": [
      "Epoch 40 | Train Acc 0.3666 | Train Loss 2.1833 | Test Acc 0.3595 | Test Loss 2.1876\n"
     ]
    },
    {
     "name": "stderr",
     "output_type": "stream",
     "text": [
      "100%|██████████| 1563/1563 [00:03<00:00, 409.50it/s]\n",
      "100%|██████████| 1563/1563 [00:03<00:00, 406.15it/s]\n",
      "100%|██████████| 1563/1563 [00:03<00:00, 409.23it/s]\n",
      "100%|██████████| 1563/1563 [00:03<00:00, 398.23it/s]\n",
      "100%|██████████| 1563/1563 [00:03<00:00, 408.51it/s]\n",
      "100%|██████████| 1563/1563 [00:03<00:00, 404.57it/s]\n",
      "100%|██████████| 1563/1563 [00:03<00:00, 406.97it/s]\n",
      "100%|██████████| 1563/1563 [00:03<00:00, 406.67it/s]\n",
      "100%|██████████| 1563/1563 [00:03<00:00, 414.61it/s]\n",
      "100%|██████████| 1563/1563 [00:03<00:00, 410.22it/s]\n",
      "100%|██████████| 313/313 [00:00<00:00, 469.40it/s]\n"
     ]
    },
    {
     "name": "stdout",
     "output_type": "stream",
     "text": [
      "Epoch 50 | Train Acc 0.3720 | Train Loss 2.1797 | Test Acc 0.3651 | Test Loss 2.1843\n"
     ]
    },
    {
     "name": "stderr",
     "output_type": "stream",
     "text": [
      "100%|██████████| 1563/1563 [00:03<00:00, 412.46it/s]\n",
      "100%|██████████| 1563/1563 [00:03<00:00, 406.05it/s]\n",
      "100%|██████████| 1563/1563 [00:03<00:00, 410.98it/s]\n",
      "100%|██████████| 1563/1563 [00:03<00:00, 420.37it/s]\n",
      "100%|██████████| 1563/1563 [00:03<00:00, 411.41it/s]\n",
      "100%|██████████| 1563/1563 [00:03<00:00, 416.03it/s]\n",
      "100%|██████████| 1563/1563 [00:03<00:00, 428.54it/s]\n",
      "100%|██████████| 1563/1563 [00:03<00:00, 404.66it/s]\n",
      "100%|██████████| 1563/1563 [00:03<00:00, 416.74it/s]\n",
      "100%|██████████| 1563/1563 [00:03<00:00, 420.73it/s]\n",
      "100%|██████████| 313/313 [00:00<00:00, 452.00it/s]\n"
     ]
    },
    {
     "name": "stdout",
     "output_type": "stream",
     "text": [
      "Epoch 60 | Train Acc 0.3807 | Train Loss 2.1751 | Test Acc 0.3715 | Test Loss 2.1816\n"
     ]
    },
    {
     "name": "stderr",
     "output_type": "stream",
     "text": [
      "100%|██████████| 1563/1563 [00:03<00:00, 406.61it/s]\n",
      "100%|██████████| 1563/1563 [00:03<00:00, 427.03it/s]\n",
      "100%|██████████| 1563/1563 [00:03<00:00, 415.25it/s]\n",
      "100%|██████████| 1563/1563 [00:03<00:00, 402.55it/s]\n",
      "100%|██████████| 1563/1563 [00:03<00:00, 407.13it/s]\n",
      "100%|██████████| 1563/1563 [00:03<00:00, 409.96it/s]\n",
      "100%|██████████| 1563/1563 [00:03<00:00, 406.16it/s]\n",
      "100%|██████████| 1563/1563 [00:04<00:00, 387.51it/s]\n",
      "100%|██████████| 1563/1563 [00:04<00:00, 358.74it/s]\n",
      "100%|██████████| 1563/1563 [00:03<00:00, 418.60it/s]\n",
      "100%|██████████| 313/313 [00:00<00:00, 496.52it/s]\n"
     ]
    },
    {
     "name": "stdout",
     "output_type": "stream",
     "text": [
      "Epoch 70 | Train Acc 0.3818 | Train Loss 2.1722 | Test Acc 0.3743 | Test Loss 2.1797\n"
     ]
    },
    {
     "name": "stderr",
     "output_type": "stream",
     "text": [
      "100%|██████████| 1563/1563 [00:03<00:00, 425.18it/s]\n",
      "100%|██████████| 1563/1563 [00:03<00:00, 419.28it/s]\n",
      "100%|██████████| 1563/1563 [00:03<00:00, 407.37it/s]\n",
      "100%|██████████| 1563/1563 [00:03<00:00, 432.29it/s]\n",
      "100%|██████████| 1563/1563 [00:03<00:00, 414.09it/s]\n",
      "100%|██████████| 1563/1563 [00:03<00:00, 394.23it/s]\n",
      "100%|██████████| 1563/1563 [00:03<00:00, 399.67it/s]\n",
      "100%|██████████| 1563/1563 [00:03<00:00, 425.93it/s]\n",
      "100%|██████████| 1563/1563 [00:03<00:00, 421.40it/s]\n",
      "100%|██████████| 1563/1563 [00:03<00:00, 404.48it/s]\n",
      "100%|██████████| 313/313 [00:00<00:00, 458.32it/s]\n"
     ]
    },
    {
     "name": "stdout",
     "output_type": "stream",
     "text": [
      "Epoch 80 | Train Acc 0.3889 | Train Loss 2.1697 | Test Acc 0.3786 | Test Loss 2.1786\n"
     ]
    },
    {
     "name": "stderr",
     "output_type": "stream",
     "text": [
      "100%|██████████| 1563/1563 [00:03<00:00, 422.66it/s]\n",
      "100%|██████████| 1563/1563 [00:03<00:00, 413.91it/s]\n",
      "100%|██████████| 1563/1563 [00:03<00:00, 422.78it/s]\n",
      "100%|██████████| 1563/1563 [00:03<00:00, 414.27it/s]\n",
      "100%|██████████| 1563/1563 [00:03<00:00, 410.24it/s]\n",
      "100%|██████████| 1563/1563 [00:03<00:00, 414.92it/s]\n",
      "100%|██████████| 1563/1563 [00:03<00:00, 424.66it/s]\n",
      "100%|██████████| 1563/1563 [00:03<00:00, 435.07it/s]\n",
      "100%|██████████| 1563/1563 [00:03<00:00, 416.69it/s]\n",
      "100%|██████████| 1563/1563 [00:03<00:00, 427.91it/s]\n",
      "100%|██████████| 313/313 [00:00<00:00, 495.16it/s]\n"
     ]
    },
    {
     "name": "stdout",
     "output_type": "stream",
     "text": [
      "Epoch 90 | Train Acc 0.3914 | Train Loss 2.1670 | Test Acc 0.3814 | Test Loss 2.1777\n"
     ]
    },
    {
     "name": "stderr",
     "output_type": "stream",
     "text": [
      "100%|██████████| 1563/1563 [00:03<00:00, 418.00it/s]\n",
      "100%|██████████| 1563/1563 [00:03<00:00, 428.61it/s]\n",
      "100%|██████████| 1563/1563 [00:03<00:00, 406.32it/s]\n",
      "100%|██████████| 1563/1563 [00:03<00:00, 411.78it/s]\n",
      "100%|██████████| 1563/1563 [00:03<00:00, 415.93it/s]\n",
      "100%|██████████| 1563/1563 [00:03<00:00, 420.82it/s]\n",
      "100%|██████████| 1563/1563 [00:03<00:00, 415.75it/s]\n",
      "100%|██████████| 1563/1563 [00:03<00:00, 410.66it/s]\n",
      "100%|██████████| 1563/1563 [00:03<00:00, 421.97it/s]\n",
      "100%|██████████| 1563/1563 [00:03<00:00, 401.18it/s]\n",
      "100%|██████████| 313/313 [00:00<00:00, 467.37it/s]\n"
     ]
    },
    {
     "name": "stdout",
     "output_type": "stream",
     "text": [
      "Epoch 100 | Train Acc 0.3936 | Train Loss 2.1650 | Test Acc 0.3841 | Test Loss 2.1770\n"
     ]
    },
    {
     "name": "stderr",
     "output_type": "stream",
     "text": [
      "100%|██████████| 1563/1563 [00:04<00:00, 376.26it/s]\n",
      "100%|██████████| 1563/1563 [00:04<00:00, 381.37it/s]\n",
      "100%|██████████| 1563/1563 [00:03<00:00, 412.61it/s]\n",
      "100%|██████████| 1563/1563 [00:03<00:00, 431.06it/s]\n",
      "100%|██████████| 1563/1563 [00:03<00:00, 437.84it/s]\n",
      "100%|██████████| 1563/1563 [00:03<00:00, 410.80it/s]\n",
      "100%|██████████| 1563/1563 [00:03<00:00, 425.96it/s]\n",
      "100%|██████████| 1563/1563 [00:03<00:00, 407.74it/s]\n",
      "100%|██████████| 1563/1563 [00:03<00:00, 435.36it/s]\n",
      "100%|██████████| 1563/1563 [00:03<00:00, 426.96it/s]\n",
      "100%|██████████| 313/313 [00:00<00:00, 498.93it/s]\n"
     ]
    },
    {
     "name": "stdout",
     "output_type": "stream",
     "text": [
      "Epoch 110 | Train Acc 0.3975 | Train Loss 2.1639 | Test Acc 0.3858 | Test Loss 2.1763\n"
     ]
    },
    {
     "name": "stderr",
     "output_type": "stream",
     "text": [
      "100%|██████████| 1563/1563 [00:03<00:00, 428.33it/s]\n",
      "100%|██████████| 1563/1563 [00:03<00:00, 408.33it/s]\n",
      "100%|██████████| 1563/1563 [00:03<00:00, 408.18it/s]\n",
      "100%|██████████| 1563/1563 [00:03<00:00, 417.43it/s]\n",
      "100%|██████████| 1563/1563 [00:03<00:00, 430.71it/s]\n",
      "100%|██████████| 1563/1563 [00:03<00:00, 430.51it/s]\n",
      "100%|██████████| 1563/1563 [00:03<00:00, 419.94it/s]\n",
      "100%|██████████| 1563/1563 [00:03<00:00, 417.84it/s]\n",
      "100%|██████████| 1563/1563 [00:03<00:00, 411.41it/s]\n",
      "100%|██████████| 1563/1563 [00:03<00:00, 406.95it/s]\n",
      "100%|██████████| 313/313 [00:00<00:00, 479.14it/s]\n"
     ]
    },
    {
     "name": "stdout",
     "output_type": "stream",
     "text": [
      "Epoch 120 | Train Acc 0.4001 | Train Loss 2.1617 | Test Acc 0.3866 | Test Loss 2.1753\n"
     ]
    },
    {
     "name": "stderr",
     "output_type": "stream",
     "text": [
      "100%|██████████| 1563/1563 [00:03<00:00, 422.11it/s]\n",
      "100%|██████████| 1563/1563 [00:03<00:00, 412.20it/s]\n",
      "100%|██████████| 1563/1563 [00:03<00:00, 418.46it/s]\n",
      "100%|██████████| 1563/1563 [00:03<00:00, 421.09it/s]\n",
      "100%|██████████| 1563/1563 [00:03<00:00, 423.66it/s]\n",
      "100%|██████████| 1563/1563 [00:03<00:00, 412.30it/s]\n",
      "100%|██████████| 1563/1563 [00:03<00:00, 420.53it/s]\n",
      "100%|██████████| 1563/1563 [00:03<00:00, 411.21it/s]\n",
      "100%|██████████| 1563/1563 [00:03<00:00, 428.40it/s]\n",
      "100%|██████████| 1563/1563 [00:03<00:00, 424.32it/s]\n",
      "100%|██████████| 313/313 [00:00<00:00, 490.13it/s]\n"
     ]
    },
    {
     "name": "stdout",
     "output_type": "stream",
     "text": [
      "Epoch 130 | Train Acc 0.4032 | Train Loss 2.1603 | Test Acc 0.3838 | Test Loss 2.1755\n"
     ]
    },
    {
     "name": "stderr",
     "output_type": "stream",
     "text": [
      "100%|██████████| 1563/1563 [00:03<00:00, 424.67it/s]\n",
      "100%|██████████| 1563/1563 [00:03<00:00, 426.18it/s]\n",
      "100%|██████████| 1563/1563 [00:03<00:00, 426.80it/s]\n",
      "100%|██████████| 1563/1563 [00:03<00:00, 414.41it/s]\n",
      "100%|██████████| 1563/1563 [00:03<00:00, 426.05it/s]\n",
      "100%|██████████| 1563/1563 [00:03<00:00, 426.00it/s]\n",
      "100%|██████████| 1563/1563 [00:03<00:00, 428.38it/s]\n",
      "100%|██████████| 1563/1563 [00:03<00:00, 421.17it/s]\n",
      "100%|██████████| 1563/1563 [00:03<00:00, 423.64it/s]\n",
      "100%|██████████| 1563/1563 [00:03<00:00, 417.92it/s]\n",
      "100%|██████████| 313/313 [00:00<00:00, 477.97it/s]\n"
     ]
    },
    {
     "name": "stdout",
     "output_type": "stream",
     "text": [
      "Epoch 140 | Train Acc 0.4057 | Train Loss 2.1585 | Test Acc 0.3905 | Test Loss 2.1754\n"
     ]
    },
    {
     "name": "stderr",
     "output_type": "stream",
     "text": [
      "100%|██████████| 1563/1563 [00:03<00:00, 424.18it/s]\n",
      "100%|██████████| 1563/1563 [00:03<00:00, 423.52it/s]\n",
      "100%|██████████| 1563/1563 [00:03<00:00, 426.69it/s]\n",
      "100%|██████████| 1563/1563 [00:03<00:00, 414.25it/s]\n",
      "100%|██████████| 1563/1563 [00:03<00:00, 406.74it/s]\n",
      "100%|██████████| 1563/1563 [00:03<00:00, 408.14it/s]\n",
      "100%|██████████| 1563/1563 [00:04<00:00, 387.87it/s]\n",
      "100%|██████████| 1563/1563 [00:03<00:00, 402.35it/s]\n",
      "100%|██████████| 1563/1563 [00:03<00:00, 417.78it/s]\n",
      "100%|██████████| 1563/1563 [00:03<00:00, 411.75it/s]\n",
      "100%|██████████| 313/313 [00:00<00:00, 480.11it/s]\n"
     ]
    },
    {
     "name": "stdout",
     "output_type": "stream",
     "text": [
      "Epoch 150 | Train Acc 0.4032 | Train Loss 2.1577 | Test Acc 0.3888 | Test Loss 2.1750\n"
     ]
    },
    {
     "name": "stderr",
     "output_type": "stream",
     "text": [
      "100%|██████████| 1563/1563 [00:03<00:00, 401.94it/s]\n",
      "100%|██████████| 1563/1563 [00:03<00:00, 400.48it/s]\n",
      "100%|██████████| 1563/1563 [00:03<00:00, 398.34it/s]\n",
      "100%|██████████| 1563/1563 [00:03<00:00, 406.76it/s]\n",
      "100%|██████████| 1563/1563 [00:03<00:00, 402.20it/s]\n",
      "100%|██████████| 1563/1563 [00:03<00:00, 404.45it/s]\n",
      "100%|██████████| 1563/1563 [00:03<00:00, 422.52it/s]\n",
      "100%|██████████| 1563/1563 [00:03<00:00, 424.41it/s]\n",
      "100%|██████████| 1563/1563 [00:03<00:00, 427.84it/s]\n",
      "100%|██████████| 1563/1563 [00:03<00:00, 429.07it/s]\n",
      "100%|██████████| 313/313 [00:00<00:00, 488.08it/s]\n"
     ]
    },
    {
     "name": "stdout",
     "output_type": "stream",
     "text": [
      "Epoch 160 | Train Acc 0.4094 | Train Loss 2.1566 | Test Acc 0.3900 | Test Loss 2.1748\n"
     ]
    },
    {
     "name": "stderr",
     "output_type": "stream",
     "text": [
      "100%|██████████| 1563/1563 [00:03<00:00, 428.95it/s]\n",
      "100%|██████████| 1563/1563 [00:03<00:00, 427.40it/s]\n",
      "100%|██████████| 1563/1563 [00:03<00:00, 429.27it/s]\n",
      "100%|██████████| 1563/1563 [00:03<00:00, 430.93it/s]\n",
      "100%|██████████| 1563/1563 [00:03<00:00, 432.66it/s]\n",
      "100%|██████████| 1563/1563 [00:03<00:00, 431.93it/s]\n",
      "100%|██████████| 1563/1563 [00:03<00:00, 426.56it/s]\n",
      "100%|██████████| 1563/1563 [00:03<00:00, 412.38it/s]\n",
      "100%|██████████| 1563/1563 [00:03<00:00, 419.74it/s]\n",
      "100%|██████████| 1563/1563 [00:03<00:00, 420.23it/s]\n",
      "100%|██████████| 313/313 [00:00<00:00, 489.51it/s]\n"
     ]
    },
    {
     "name": "stdout",
     "output_type": "stream",
     "text": [
      "Epoch 170 | Train Acc 0.4094 | Train Loss 2.1547 | Test Acc 0.3886 | Test Loss 2.1742\n"
     ]
    },
    {
     "name": "stderr",
     "output_type": "stream",
     "text": [
      "100%|██████████| 1563/1563 [00:03<00:00, 424.99it/s]\n",
      "100%|██████████| 1563/1563 [00:03<00:00, 417.83it/s]\n",
      "100%|██████████| 1563/1563 [00:03<00:00, 411.21it/s]\n",
      "100%|██████████| 1563/1563 [00:03<00:00, 416.72it/s]\n",
      "100%|██████████| 1563/1563 [00:03<00:00, 413.77it/s]\n",
      "100%|██████████| 1563/1563 [00:03<00:00, 417.68it/s]\n",
      "100%|██████████| 1563/1563 [00:03<00:00, 425.41it/s]\n",
      "100%|██████████| 1563/1563 [00:03<00:00, 422.37it/s]\n",
      "100%|██████████| 1563/1563 [00:03<00:00, 424.43it/s]\n",
      "100%|██████████| 1563/1563 [00:03<00:00, 425.57it/s]\n",
      "100%|██████████| 313/313 [00:00<00:00, 493.04it/s]\n"
     ]
    },
    {
     "name": "stdout",
     "output_type": "stream",
     "text": [
      "Epoch 180 | Train Acc 0.4094 | Train Loss 2.1551 | Test Acc 0.3896 | Test Loss 2.1738\n"
     ]
    },
    {
     "name": "stderr",
     "output_type": "stream",
     "text": [
      "100%|██████████| 1563/1563 [00:03<00:00, 428.20it/s]\n",
      "100%|██████████| 1563/1563 [00:03<00:00, 426.51it/s]\n",
      "100%|██████████| 1563/1563 [00:03<00:00, 427.86it/s]\n",
      "100%|██████████| 1563/1563 [00:03<00:00, 431.87it/s]\n",
      "100%|██████████| 1563/1563 [00:03<00:00, 432.28it/s]\n",
      "100%|██████████| 1563/1563 [00:03<00:00, 431.94it/s]\n",
      "100%|██████████| 1563/1563 [00:03<00:00, 427.83it/s]\n",
      "100%|██████████| 1563/1563 [00:03<00:00, 430.96it/s]\n",
      "100%|██████████| 1563/1563 [00:03<00:00, 428.79it/s]\n",
      "100%|██████████| 1563/1563 [00:03<00:00, 430.89it/s]\n",
      "100%|██████████| 313/313 [00:00<00:00, 489.20it/s]\n"
     ]
    },
    {
     "name": "stdout",
     "output_type": "stream",
     "text": [
      "Epoch 190 | Train Acc 0.4121 | Train Loss 2.1531 | Test Acc 0.3905 | Test Loss 2.1744\n"
     ]
    },
    {
     "name": "stderr",
     "output_type": "stream",
     "text": [
      "100%|██████████| 1563/1563 [00:03<00:00, 429.01it/s]\n",
      "100%|██████████| 1563/1563 [00:03<00:00, 426.76it/s]\n",
      "100%|██████████| 1563/1563 [00:03<00:00, 427.71it/s]\n",
      "100%|██████████| 1563/1563 [00:03<00:00, 429.83it/s]\n",
      "100%|██████████| 1563/1563 [00:03<00:00, 431.89it/s]\n",
      "100%|██████████| 1563/1563 [00:03<00:00, 430.12it/s]\n",
      "100%|██████████| 1563/1563 [00:03<00:00, 429.98it/s]\n",
      "100%|██████████| 1563/1563 [00:03<00:00, 431.93it/s]\n",
      "100%|██████████| 1563/1563 [00:03<00:00, 431.88it/s]\n",
      "100%|██████████| 313/313 [00:00<00:00, 491.46it/s]"
     ]
    },
    {
     "name": "stdout",
     "output_type": "stream",
     "text": [
      "Epoch 199 | Train Acc 0.4103 | Train Loss 2.1521 | Test Acc 0.3898 | Test Loss 2.1739\n"
     ]
    },
    {
     "name": "stderr",
     "output_type": "stream",
     "text": [
      "\n"
     ]
    }
   ],
   "source": [
    "epochs, train_acc, train_loss, test_acc, test_loss = cfr.main(FLAGS, 'cpu')"
   ]
  },
  {
   "cell_type": "code",
   "execution_count": 13,
   "metadata": {},
   "outputs": [
    {
     "data": {
      "image/png": "[encoded data removed]",
      "text/plain": [
       "<Figure size 1440x360 with 2 Axes>"
      ]
     },
     "metadata": {
      "needs_background": "light"
     },
     "output_type": "display_data"
    }
   ],
   "source": [
    "draw_eval(epochs, train_acc, test_acc, train_loss, test_loss)"
   ]
  }
 ],
 "metadata": {
  "kernelspec": {
   "display_name": "pytorch_p39",
   "language": "python",
   "name": "python3"
  },
  "language_info": {
   "codemirror_mode": {
    "name": "ipython",
    "version": 3
   },
   "file_extension": ".py",
   "mimetype": "text/x-python",
   "name": "python",
   "nbconvert_exporter": "python",
   "pygments_lexer": "ipython3",
   "version": "3.9.13"
  },
  "orig_nbformat": 4
 },
 "nbformat": 4,
 "nbformat_minor": 2
}
